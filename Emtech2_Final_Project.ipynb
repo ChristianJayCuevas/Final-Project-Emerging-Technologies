{
  "nbformat": 4,
  "nbformat_minor": 0,
  "metadata": {
    "colab": {
      "provenance": [],
      "gpuType": "T4"
    },
    "kernelspec": {
      "name": "python3",
      "display_name": "Python 3"
    },
    "language_info": {
      "name": "python"
    },
    "accelerator": "GPU"
  },
  "cells": [
    {
      "cell_type": "markdown",
      "source": [
        "Technological Institute of the Philippines | Quezon City - Computer Engineering\n",
        "--- | ---\n",
        "Course Code: | CPE 019\n",
        "Code Title: | Emerging Technologies in CpE 2\n",
        "1st Semester | AY 2023-2024\n",
        "<hr> | <hr>\n",
        "<u>**Final Project** | **Deploying model in cloud**\n",
        "**Name** | Cuevas, Christian Jay - Nicolas, Sean Julian\n",
        "**Section** | CPE32S3\n",
        "**Date Performed**: |May 15, 2024\n",
        "**Date Submitted**: |May 18, 2023\n",
        "**Instructor**: | Engr. Roman M. Richard\n",
        "\n",
        "<hr>"
      ],
      "metadata": {
        "id": "wjPwFKllUzci"
      }
    },
    {
      "cell_type": "markdown",
      "source": [
        "# 1.1 Problem Statement"
      ],
      "metadata": {
        "id": "B-nspry_jKnX"
      }
    },
    {
      "cell_type": "markdown",
      "source": [
        "- Diabetic retinopathy is an eye condition of people with diabetes that can cause blindness or vision impairment [1]. The prevalence of diabetic retinopathy is high among diabetic Filipino patients. A study mentioned that for every 5 diabetic Filipino patient, there is 1 patient with a sign of diabetic retinopathy[2]. As of now, there is no cure for diabetic retinopathy, but the sooner it is detected, the easier to treat or prevent the spread of it[3].\n",
        "\n",
        "<img src = \"https://cdn.discordapp.com/attachments/961069393234767882/1240567424408092694/illustration-showing-diabetic-retinopathy.png?ex=6649aaf2&is=66485972&hm=f96d7e8cc50753d9064b55caeb7e12a8973b7ba29a260797e8de4d4798a3f1cc&\">\n",
        "\n"
      ],
      "metadata": {
        "id": "t4qU0ag5HsCN"
      }
    },
    {
      "cell_type": "markdown",
      "source": [
        "# 1.2 Aim of the Study"
      ],
      "metadata": {
        "id": "ile1n0xpSDfg"
      }
    },
    {
      "cell_type": "markdown",
      "source": [
        "- Early detection of diabetic retinopathy is essential to its treatment[3]. The diagnosis of the diabetic retinopathy is done by capturing images of your retina using special cameras[4]. Then the assessment relies solely on the manual interpretation of the doctor, which can lead to human-error or can be time consuming.\n",
        "- The goal of this study is to create a model using CNN that can help with the early detection if the patient has diabetic retinopathy. This can help reduce time and significantly reduce any errors that may occur. We are using CNN because it can achieve state-of-the-art results and it is simple to use[5]"
      ],
      "metadata": {
        "id": "-S3U5BTlSKZ4"
      }
    },
    {
      "cell_type": "markdown",
      "source": [
        "#2.1 About the Dataset"
      ],
      "metadata": {
        "id": "W0RwRFNJjPlh"
      }
    },
    {
      "cell_type": "markdown",
      "source": [
        "- The dataset that we have chosen is the diagnosis of diabetic retinopathy dataset from kaggle. This is a dataset that contains images of retina with and without Diabetic Retinopathy. The original dataset has a large amount of images, we just decided to get a part of it which are the images of retina without DR and with DR.\n"
      ],
      "metadata": {
        "id": "8vNC7nPOUYzd"
      }
    },
    {
      "cell_type": "markdown",
      "source": [
        "# 2.2 Importing of the Dataset"
      ],
      "metadata": {
        "id": "QoWaiuEgkqIk"
      }
    },
    {
      "cell_type": "markdown",
      "source": [
        "- To import this dataset to Google Colab, we will first upload it to the google drive and then create a code to retrieve it from there."
      ],
      "metadata": {
        "id": "HHL5Cjt7kt1k"
      }
    },
    {
      "cell_type": "code",
      "source": [
        "from google.colab import drive\n",
        "drive.mount('/content/drive')"
      ],
      "metadata": {
        "colab": {
          "base_uri": "https://localhost:8080/"
        },
        "id": "-GrI1hz4zide",
        "outputId": "bc3228c6-1972-424c-b42c-b3e2beb76aa4"
      },
      "execution_count": null,
      "outputs": [
        {
          "output_type": "stream",
          "name": "stdout",
          "text": [
            "Mounted at /content/drive\n"
          ]
        }
      ]
    },
    {
      "cell_type": "code",
      "source": [
        "import os\n",
        "\n",
        "dataset = \"/content/drive/MyDrive/Emtech 2 Final Exam Dataset/Diabetic Retinopathy\"\n",
        "dataset_list = os.listdir(dataset)"
      ],
      "metadata": {
        "id": "qIKrr9qrz1SZ"
      },
      "execution_count": null,
      "outputs": []
    },
    {
      "cell_type": "markdown",
      "source": [
        "#3.1 Importing all the Libraries\n"
      ],
      "metadata": {
        "id": "ZWYiAtVEsGJF"
      }
    },
    {
      "cell_type": "code",
      "source": [
        "!pip install h5py"
      ],
      "metadata": {
        "colab": {
          "base_uri": "https://localhost:8080/"
        },
        "id": "oopxXFfBrRNg",
        "outputId": "dcc8f5b5-970a-4ed9-d468-a48c7ee0be4f"
      },
      "execution_count": null,
      "outputs": [
        {
          "output_type": "stream",
          "name": "stdout",
          "text": [
            "Requirement already satisfied: h5py in /usr/local/lib/python3.10/dist-packages (3.9.0)\n",
            "Requirement already satisfied: numpy>=1.17.3 in /usr/local/lib/python3.10/dist-packages (from h5py) (1.25.2)\n"
          ]
        }
      ]
    },
    {
      "cell_type": "code",
      "source": [
        "import os\n",
        "import pandas as pd\n",
        "from tensorflow.keras.preprocessing.image import ImageDataGenerator\n",
        "import tensorflow as tf\n",
        "from tensorflow.keras.models import Sequential\n",
        "from tensorflow.keras.layers import Conv2D, MaxPooling2D, Flatten, Dense, Dropout\n",
        "from tensorflow.keras.preprocessing.image import ImageDataGenerator\n",
        "from tensorflow.keras.callbacks import EarlyStopping\n",
        "from keras.models import load_model\n",
        "from PIL import Image, ImageOps\n",
        "import numpy as np\n",
        "from tensorflow.keras.models import Model"
      ],
      "metadata": {
        "id": "qNXv_kjzSPg_"
      },
      "execution_count": null,
      "outputs": []
    },
    {
      "cell_type": "markdown",
      "source": [
        "# 4.1 Preprocessing the images using ImageDataGenerator"
      ],
      "metadata": {
        "id": "QIkPvGumS4ut"
      }
    },
    {
      "cell_type": "code",
      "source": [
        "main_dir =  \"/content/drive/MyDrive/Emtech 2 Final Exam Dataset/Diabetic Retinopathy\"\n",
        "\n",
        "file_dirs = []\n",
        "labels = []\n",
        "\n",
        "for class_name in os.listdir(main_dir):\n",
        "    class_dir = os.path.join(main_dir, class_name)\n",
        "    for file_name in os.listdir(class_dir):\n",
        "        file_path = os.path.join(class_name, file_name)\n",
        "        file_dirs.append(file_path)\n",
        "        labels.append(class_name)\n",
        "\n",
        "\n",
        "df = pd.DataFrame({'File_Path': file_dirs, 'Label': labels})"
      ],
      "metadata": {
        "id": "ogg5pBtg0e3Q"
      },
      "execution_count": null,
      "outputs": []
    },
    {
      "cell_type": "code",
      "source": [
        "df.head(6)"
      ],
      "metadata": {
        "colab": {
          "base_uri": "https://localhost:8080/",
          "height": 237
        },
        "id": "4n9IFz-50miq",
        "outputId": "8b1c1d5a-eb4c-47a9-c0f0-24591d570ac6"
      },
      "execution_count": null,
      "outputs": [
        {
          "output_type": "execute_result",
          "data": {
            "text/plain": [
              "     File_Path  Label\n",
              "0  train/No_DR  train\n",
              "1     train/DR  train\n",
              "2      test/DR   test\n",
              "3   test/No_DR   test\n",
              "4  valid/No_DR  valid\n",
              "5     valid/DR  valid"
            ],
            "text/html": [
              "\n",
              "  <div id=\"df-209551f1-0bde-4f57-bb5d-dc23b551d36b\" class=\"colab-df-container\">\n",
              "    <div>\n",
              "<style scoped>\n",
              "    .dataframe tbody tr th:only-of-type {\n",
              "        vertical-align: middle;\n",
              "    }\n",
              "\n",
              "    .dataframe tbody tr th {\n",
              "        vertical-align: top;\n",
              "    }\n",
              "\n",
              "    .dataframe thead th {\n",
              "        text-align: right;\n",
              "    }\n",
              "</style>\n",
              "<table border=\"1\" class=\"dataframe\">\n",
              "  <thead>\n",
              "    <tr style=\"text-align: right;\">\n",
              "      <th></th>\n",
              "      <th>File_Path</th>\n",
              "      <th>Label</th>\n",
              "    </tr>\n",
              "  </thead>\n",
              "  <tbody>\n",
              "    <tr>\n",
              "      <th>0</th>\n",
              "      <td>train/No_DR</td>\n",
              "      <td>train</td>\n",
              "    </tr>\n",
              "    <tr>\n",
              "      <th>1</th>\n",
              "      <td>train/DR</td>\n",
              "      <td>train</td>\n",
              "    </tr>\n",
              "    <tr>\n",
              "      <th>2</th>\n",
              "      <td>test/DR</td>\n",
              "      <td>test</td>\n",
              "    </tr>\n",
              "    <tr>\n",
              "      <th>3</th>\n",
              "      <td>test/No_DR</td>\n",
              "      <td>test</td>\n",
              "    </tr>\n",
              "    <tr>\n",
              "      <th>4</th>\n",
              "      <td>valid/No_DR</td>\n",
              "      <td>valid</td>\n",
              "    </tr>\n",
              "    <tr>\n",
              "      <th>5</th>\n",
              "      <td>valid/DR</td>\n",
              "      <td>valid</td>\n",
              "    </tr>\n",
              "  </tbody>\n",
              "</table>\n",
              "</div>\n",
              "    <div class=\"colab-df-buttons\">\n",
              "\n",
              "  <div class=\"colab-df-container\">\n",
              "    <button class=\"colab-df-convert\" onclick=\"convertToInteractive('df-209551f1-0bde-4f57-bb5d-dc23b551d36b')\"\n",
              "            title=\"Convert this dataframe to an interactive table.\"\n",
              "            style=\"display:none;\">\n",
              "\n",
              "  <svg xmlns=\"http://www.w3.org/2000/svg\" height=\"24px\" viewBox=\"0 -960 960 960\">\n",
              "    <path d=\"M120-120v-720h720v720H120Zm60-500h600v-160H180v160Zm220 220h160v-160H400v160Zm0 220h160v-160H400v160ZM180-400h160v-160H180v160Zm440 0h160v-160H620v160ZM180-180h160v-160H180v160Zm440 0h160v-160H620v160Z\"/>\n",
              "  </svg>\n",
              "    </button>\n",
              "\n",
              "  <style>\n",
              "    .colab-df-container {\n",
              "      display:flex;\n",
              "      gap: 12px;\n",
              "    }\n",
              "\n",
              "    .colab-df-convert {\n",
              "      background-color: #E8F0FE;\n",
              "      border: none;\n",
              "      border-radius: 50%;\n",
              "      cursor: pointer;\n",
              "      display: none;\n",
              "      fill: #1967D2;\n",
              "      height: 32px;\n",
              "      padding: 0 0 0 0;\n",
              "      width: 32px;\n",
              "    }\n",
              "\n",
              "    .colab-df-convert:hover {\n",
              "      background-color: #E2EBFA;\n",
              "      box-shadow: 0px 1px 2px rgba(60, 64, 67, 0.3), 0px 1px 3px 1px rgba(60, 64, 67, 0.15);\n",
              "      fill: #174EA6;\n",
              "    }\n",
              "\n",
              "    .colab-df-buttons div {\n",
              "      margin-bottom: 4px;\n",
              "    }\n",
              "\n",
              "    [theme=dark] .colab-df-convert {\n",
              "      background-color: #3B4455;\n",
              "      fill: #D2E3FC;\n",
              "    }\n",
              "\n",
              "    [theme=dark] .colab-df-convert:hover {\n",
              "      background-color: #434B5C;\n",
              "      box-shadow: 0px 1px 3px 1px rgba(0, 0, 0, 0.15);\n",
              "      filter: drop-shadow(0px 1px 2px rgba(0, 0, 0, 0.3));\n",
              "      fill: #FFFFFF;\n",
              "    }\n",
              "  </style>\n",
              "\n",
              "    <script>\n",
              "      const buttonEl =\n",
              "        document.querySelector('#df-209551f1-0bde-4f57-bb5d-dc23b551d36b button.colab-df-convert');\n",
              "      buttonEl.style.display =\n",
              "        google.colab.kernel.accessAllowed ? 'block' : 'none';\n",
              "\n",
              "      async function convertToInteractive(key) {\n",
              "        const element = document.querySelector('#df-209551f1-0bde-4f57-bb5d-dc23b551d36b');\n",
              "        const dataTable =\n",
              "          await google.colab.kernel.invokeFunction('convertToInteractive',\n",
              "                                                    [key], {});\n",
              "        if (!dataTable) return;\n",
              "\n",
              "        const docLinkHtml = 'Like what you see? Visit the ' +\n",
              "          '<a target=\"_blank\" href=https://colab.research.google.com/notebooks/data_table.ipynb>data table notebook</a>'\n",
              "          + ' to learn more about interactive tables.';\n",
              "        element.innerHTML = '';\n",
              "        dataTable['output_type'] = 'display_data';\n",
              "        await google.colab.output.renderOutput(dataTable, element);\n",
              "        const docLink = document.createElement('div');\n",
              "        docLink.innerHTML = docLinkHtml;\n",
              "        element.appendChild(docLink);\n",
              "      }\n",
              "    </script>\n",
              "  </div>\n",
              "\n",
              "\n",
              "<div id=\"df-8a31981e-55ad-40c8-9383-f8e4cb3ee251\">\n",
              "  <button class=\"colab-df-quickchart\" onclick=\"quickchart('df-8a31981e-55ad-40c8-9383-f8e4cb3ee251')\"\n",
              "            title=\"Suggest charts\"\n",
              "            style=\"display:none;\">\n",
              "\n",
              "<svg xmlns=\"http://www.w3.org/2000/svg\" height=\"24px\"viewBox=\"0 0 24 24\"\n",
              "     width=\"24px\">\n",
              "    <g>\n",
              "        <path d=\"M19 3H5c-1.1 0-2 .9-2 2v14c0 1.1.9 2 2 2h14c1.1 0 2-.9 2-2V5c0-1.1-.9-2-2-2zM9 17H7v-7h2v7zm4 0h-2V7h2v10zm4 0h-2v-4h2v4z\"/>\n",
              "    </g>\n",
              "</svg>\n",
              "  </button>\n",
              "\n",
              "<style>\n",
              "  .colab-df-quickchart {\n",
              "      --bg-color: #E8F0FE;\n",
              "      --fill-color: #1967D2;\n",
              "      --hover-bg-color: #E2EBFA;\n",
              "      --hover-fill-color: #174EA6;\n",
              "      --disabled-fill-color: #AAA;\n",
              "      --disabled-bg-color: #DDD;\n",
              "  }\n",
              "\n",
              "  [theme=dark] .colab-df-quickchart {\n",
              "      --bg-color: #3B4455;\n",
              "      --fill-color: #D2E3FC;\n",
              "      --hover-bg-color: #434B5C;\n",
              "      --hover-fill-color: #FFFFFF;\n",
              "      --disabled-bg-color: #3B4455;\n",
              "      --disabled-fill-color: #666;\n",
              "  }\n",
              "\n",
              "  .colab-df-quickchart {\n",
              "    background-color: var(--bg-color);\n",
              "    border: none;\n",
              "    border-radius: 50%;\n",
              "    cursor: pointer;\n",
              "    display: none;\n",
              "    fill: var(--fill-color);\n",
              "    height: 32px;\n",
              "    padding: 0;\n",
              "    width: 32px;\n",
              "  }\n",
              "\n",
              "  .colab-df-quickchart:hover {\n",
              "    background-color: var(--hover-bg-color);\n",
              "    box-shadow: 0 1px 2px rgba(60, 64, 67, 0.3), 0 1px 3px 1px rgba(60, 64, 67, 0.15);\n",
              "    fill: var(--button-hover-fill-color);\n",
              "  }\n",
              "\n",
              "  .colab-df-quickchart-complete:disabled,\n",
              "  .colab-df-quickchart-complete:disabled:hover {\n",
              "    background-color: var(--disabled-bg-color);\n",
              "    fill: var(--disabled-fill-color);\n",
              "    box-shadow: none;\n",
              "  }\n",
              "\n",
              "  .colab-df-spinner {\n",
              "    border: 2px solid var(--fill-color);\n",
              "    border-color: transparent;\n",
              "    border-bottom-color: var(--fill-color);\n",
              "    animation:\n",
              "      spin 1s steps(1) infinite;\n",
              "  }\n",
              "\n",
              "  @keyframes spin {\n",
              "    0% {\n",
              "      border-color: transparent;\n",
              "      border-bottom-color: var(--fill-color);\n",
              "      border-left-color: var(--fill-color);\n",
              "    }\n",
              "    20% {\n",
              "      border-color: transparent;\n",
              "      border-left-color: var(--fill-color);\n",
              "      border-top-color: var(--fill-color);\n",
              "    }\n",
              "    30% {\n",
              "      border-color: transparent;\n",
              "      border-left-color: var(--fill-color);\n",
              "      border-top-color: var(--fill-color);\n",
              "      border-right-color: var(--fill-color);\n",
              "    }\n",
              "    40% {\n",
              "      border-color: transparent;\n",
              "      border-right-color: var(--fill-color);\n",
              "      border-top-color: var(--fill-color);\n",
              "    }\n",
              "    60% {\n",
              "      border-color: transparent;\n",
              "      border-right-color: var(--fill-color);\n",
              "    }\n",
              "    80% {\n",
              "      border-color: transparent;\n",
              "      border-right-color: var(--fill-color);\n",
              "      border-bottom-color: var(--fill-color);\n",
              "    }\n",
              "    90% {\n",
              "      border-color: transparent;\n",
              "      border-bottom-color: var(--fill-color);\n",
              "    }\n",
              "  }\n",
              "</style>\n",
              "\n",
              "  <script>\n",
              "    async function quickchart(key) {\n",
              "      const quickchartButtonEl =\n",
              "        document.querySelector('#' + key + ' button');\n",
              "      quickchartButtonEl.disabled = true;  // To prevent multiple clicks.\n",
              "      quickchartButtonEl.classList.add('colab-df-spinner');\n",
              "      try {\n",
              "        const charts = await google.colab.kernel.invokeFunction(\n",
              "            'suggestCharts', [key], {});\n",
              "      } catch (error) {\n",
              "        console.error('Error during call to suggestCharts:', error);\n",
              "      }\n",
              "      quickchartButtonEl.classList.remove('colab-df-spinner');\n",
              "      quickchartButtonEl.classList.add('colab-df-quickchart-complete');\n",
              "    }\n",
              "    (() => {\n",
              "      let quickchartButtonEl =\n",
              "        document.querySelector('#df-8a31981e-55ad-40c8-9383-f8e4cb3ee251 button');\n",
              "      quickchartButtonEl.style.display =\n",
              "        google.colab.kernel.accessAllowed ? 'block' : 'none';\n",
              "    })();\n",
              "  </script>\n",
              "</div>\n",
              "    </div>\n",
              "  </div>\n"
            ],
            "application/vnd.google.colaboratory.intrinsic+json": {
              "type": "dataframe",
              "variable_name": "df",
              "summary": "{\n  \"name\": \"df\",\n  \"rows\": 6,\n  \"fields\": [\n    {\n      \"column\": \"File_Path\",\n      \"properties\": {\n        \"dtype\": \"string\",\n        \"num_unique_values\": 6,\n        \"samples\": [\n          \"train/No_DR\",\n          \"train/DR\",\n          \"valid/DR\"\n        ],\n        \"semantic_type\": \"\",\n        \"description\": \"\"\n      }\n    },\n    {\n      \"column\": \"Label\",\n      \"properties\": {\n        \"dtype\": \"string\",\n        \"num_unique_values\": 3,\n        \"samples\": [\n          \"train\",\n          \"test\",\n          \"valid\"\n        ],\n        \"semantic_type\": \"\",\n        \"description\": \"\"\n      }\n    }\n  ]\n}"
            }
          },
          "metadata": {},
          "execution_count": 4
        }
      ]
    },
    {
      "cell_type": "code",
      "source": [
        "from tensorflow.keras.preprocessing.image import ImageDataGenerator\n",
        "\n",
        "IMAGE_HEIGHT = 50\n",
        "IMAGE_WIDTH = 50\n",
        "BATCH_SIZE = 32\n",
        "\n",
        "train_dir = '/content/drive/MyDrive/Emtech 2 Final Exam Dataset/Diabetic Retinopathy/train'\n",
        "val_dir = '/content/drive/MyDrive/Emtech 2 Final Exam Dataset/Diabetic Retinopathy/valid'\n",
        "test_dir = '/content/drive/MyDrive/Emtech 2 Final Exam Dataset/Diabetic Retinopathy/test'\n",
        "\n",
        "\n",
        "train_datagen = ImageDataGenerator(\n",
        "    rescale=1./255,\n",
        "    rotation_range=40,\n",
        "    width_shift_range=0.2,\n",
        "    height_shift_range=0.2,\n",
        "    shear_range=0.2,\n",
        "    zoom_range=0.2,\n",
        "    horizontal_flip=True\n",
        ")\n",
        "\n",
        "val_datagen = ImageDataGenerator(rescale=1./255)\n",
        "test_datagen = ImageDataGenerator(rescale=1./255)\n",
        "\n",
        "train_generator = train_datagen.flow_from_directory(\n",
        "    train_dir,\n",
        "    target_size=(IMAGE_HEIGHT, IMAGE_WIDTH),\n",
        "    batch_size=BATCH_SIZE,\n",
        "    class_mode='binary'\n",
        ")\n",
        "\n",
        "val_generator = val_datagen.flow_from_directory(\n",
        "    val_dir,\n",
        "    target_size=(IMAGE_HEIGHT, IMAGE_WIDTH),\n",
        "    batch_size=BATCH_SIZE,\n",
        "    class_mode='binary'\n",
        ")\n",
        "\n",
        "test_generator = test_datagen.flow_from_directory(\n",
        "    test_dir,\n",
        "    target_size=(IMAGE_HEIGHT, IMAGE_WIDTH),\n",
        "    batch_size=BATCH_SIZE,\n",
        "    class_mode='binary'\n",
        ")"
      ],
      "metadata": {
        "colab": {
          "base_uri": "https://localhost:8080/"
        },
        "id": "Ron8po3ktmus",
        "outputId": "bacd0899-6327-4fd9-cfc6-cde9b7d4df35"
      },
      "execution_count": null,
      "outputs": [
        {
          "output_type": "stream",
          "name": "stdout",
          "text": [
            "Found 2076 images belonging to 2 classes.\n",
            "Found 531 images belonging to 2 classes.\n",
            "Found 231 images belonging to 2 classes.\n"
          ]
        }
      ]
    },
    {
      "cell_type": "markdown",
      "source": [
        "# 4.2 Training the CNN Model"
      ],
      "metadata": {
        "id": "bKKpaj4RTv1L"
      }
    },
    {
      "cell_type": "code",
      "source": [
        "early_stopping = EarlyStopping(monitor='val_accuracy', patience=5, restore_best_weights=True)\n",
        "final_model4 = Sequential([\n",
        "    Conv2D(16, (3, 3), activation='relu', input_shape=(IMAGE_HEIGHT, IMAGE_WIDTH, 3)),\n",
        "    MaxPooling2D((2, 2)),\n",
        "    Conv2D(32, (3, 3), activation='relu'),\n",
        "    MaxPooling2D((2, 2)),\n",
        "    Flatten(),\n",
        "    Dense(64, activation='relu'),\n",
        "    Dropout(0.2),\n",
        "    Dense(32, activation='relu'),\n",
        "    Dropout(0.2),\n",
        "    Dense(1, activation='sigmoid')\n",
        "])\n",
        "\n",
        "final_model4.compile(optimizer='adam',\n",
        "              loss='binary_crossentropy',\n",
        "              metrics=['accuracy'])"
      ],
      "metadata": {
        "id": "-tMskLKkYQ99"
      },
      "execution_count": null,
      "outputs": []
    },
    {
      "cell_type": "code",
      "source": [
        "history4 = final_model4.fit(train_generator, epochs=10, validation_data=val_generator, callbacks=[early_stopping])"
      ],
      "metadata": {
        "colab": {
          "base_uri": "https://localhost:8080/"
        },
        "id": "sxibYlORYZBX",
        "outputId": "74934449-9f32-409b-cbc2-cc63fc0519cc"
      },
      "execution_count": null,
      "outputs": [
        {
          "output_type": "stream",
          "name": "stdout",
          "text": [
            "Epoch 1/10\n",
            "65/65 [==============================] - 880s 14s/step - loss: 0.6260 - accuracy: 0.6378 - val_loss: 0.4414 - val_accuracy: 0.7853\n",
            "Epoch 2/10\n",
            "65/65 [==============================] - 11s 174ms/step - loss: 0.5017 - accuracy: 0.7659 - val_loss: 0.3107 - val_accuracy: 0.8889\n",
            "Epoch 3/10\n",
            "65/65 [==============================] - 11s 173ms/step - loss: 0.3975 - accuracy: 0.8280 - val_loss: 0.2514 - val_accuracy: 0.8964\n",
            "Epoch 4/10\n",
            "65/65 [==============================] - 11s 174ms/step - loss: 0.3473 - accuracy: 0.8521 - val_loss: 0.2134 - val_accuracy: 0.9284\n",
            "Epoch 5/10\n",
            "65/65 [==============================] - 12s 180ms/step - loss: 0.3187 - accuracy: 0.8661 - val_loss: 0.2380 - val_accuracy: 0.9171\n",
            "Epoch 6/10\n",
            "65/65 [==============================] - 11s 167ms/step - loss: 0.3086 - accuracy: 0.8791 - val_loss: 0.2835 - val_accuracy: 0.9040\n",
            "Epoch 7/10\n",
            "65/65 [==============================] - 11s 177ms/step - loss: 0.2757 - accuracy: 0.8926 - val_loss: 0.1980 - val_accuracy: 0.9379\n",
            "Epoch 8/10\n",
            "65/65 [==============================] - 11s 176ms/step - loss: 0.2644 - accuracy: 0.9013 - val_loss: 0.1991 - val_accuracy: 0.9303\n",
            "Epoch 9/10\n",
            "65/65 [==============================] - 11s 174ms/step - loss: 0.2727 - accuracy: 0.8993 - val_loss: 0.2037 - val_accuracy: 0.9209\n",
            "Epoch 10/10\n",
            "65/65 [==============================] - 11s 175ms/step - loss: 0.2621 - accuracy: 0.9017 - val_loss: 0.2452 - val_accuracy: 0.9153\n"
          ]
        }
      ]
    },
    {
      "cell_type": "code",
      "source": [
        "from keras.models import load_model"
      ],
      "metadata": {
        "id": "kP2vc836wXE1"
      },
      "execution_count": null,
      "outputs": []
    },
    {
      "cell_type": "markdown",
      "source": [
        "#5.1 Saving and Loading the final model\n"
      ],
      "metadata": {
        "id": "A-xYa9GVTzcw"
      }
    },
    {
      "cell_type": "code",
      "source": [
        "scores = final_model3.evaluate(test_generator, verbose=0)\n",
        "print(\"\\n%s: %.2f%%\" % (final_model3.metrics_names[1], scores[1]*100))\n",
        "final_model3.save(\"final_model.h5\")\n",
        "print(\"Saved model to disk\")\n"
      ],
      "metadata": {
        "colab": {
          "base_uri": "https://localhost:8080/"
        },
        "id": "F3K8k0Azpcfh",
        "outputId": "2cd84d2f-0c9f-49b8-c827-6f872ab60aac"
      },
      "execution_count": null,
      "outputs": [
        {
          "output_type": "stream",
          "name": "stdout",
          "text": [
            "\n",
            "accuracy: 93.07%\n",
            "Saved model to disk\n"
          ]
        }
      ]
    },
    {
      "cell_type": "code",
      "source": [
        "print(\"\\nLoaded model from disk\")\n",
        "clloaded_model = load_model('final_model.h5')\n",
        "scores = clloaded_model.evaluate(test_generator, verbose=0)\n",
        "print(\"%s: %.2f%%\" % (clloaded_model.metrics_names[1], scores[1]*100))"
      ],
      "metadata": {
        "colab": {
          "base_uri": "https://localhost:8080/"
        },
        "id": "NtKwM1oB1faW",
        "outputId": "52623dc9-5935-450d-ff55-25917b48af33"
      },
      "execution_count": null,
      "outputs": [
        {
          "output_type": "stream",
          "name": "stdout",
          "text": [
            "\n",
            "Loaded model from disk\n",
            "accuracy: 93.07%\n"
          ]
        }
      ]
    },
    {
      "cell_type": "markdown",
      "source": [
        "#5.2 Evaluating the saved model"
      ],
      "metadata": {
        "id": "5x_wCpAiT3jo"
      }
    },
    {
      "cell_type": "code",
      "source": [
        "file1_DR = \"/content/00cb6555d108_png.rf.29cca170969c6e9918ef9b9209abef8e.jpg\"\n",
        "file2_NODR = \"/content/0ae2dd2e09ea_png.rf.a4faf61bd46dc2930c51b3db7dba12cd.jpg\"\n",
        "def import_and_predict(image_data,model):\n",
        "    size=(50,50)\n",
        "    image=ImageOps.fit(image_data,size,Image.Resampling.LANCZOS)\n",
        "    img=np.asarray(image)\n",
        "    img_reshape=img[np.newaxis,...]\n",
        "    prediction=model.predict(img_reshape)\n",
        "    return prediction\n",
        "\n",
        "image = Image.open(file2_NODR).convert(\"RGB\")\n",
        "prediction=import_and_predict(image,clloaded_model)\n",
        "class_names=['No DR','DR']\n",
        "if prediction > 0.5:\n",
        "  string=\"OUTPUT : \" + class_names[0]\n",
        "else:\n",
        "  string=\"OUTPUT : \" + class_names[1]\n",
        "print(string)\n"
      ],
      "metadata": {
        "colab": {
          "base_uri": "https://localhost:8080/"
        },
        "id": "Bpmae6Dx2kOD",
        "outputId": "a2901274-8a2c-4db1-a0ed-9fb3bdf06f1d"
      },
      "execution_count": null,
      "outputs": [
        {
          "output_type": "stream",
          "name": "stdout",
          "text": [
            "1/1 [==============================] - 0s 37ms/step\n",
            "OUTPUT : No DR\n"
          ]
        }
      ]
    },
    {
      "cell_type": "markdown",
      "source": [
        "#Summary / Conclusion"
      ],
      "metadata": {
        "id": "sdPG36S6UH_0"
      }
    },
    {
      "cell_type": "markdown",
      "source": [
        "- We successfully preprocessed the images and trained a model that has a high accuracy and low loss. We extracted images from the original dataset and made a model that solves the problem of identifying a diabetic retinopathy. We also successfully saved the model and then loaded it in streamlit while also making it available in cloud. This final project is overall successful and we are happy to create and learn how to deploy a model like this."
      ],
      "metadata": {
        "id": "S1suRyLYUMEs"
      }
    },
    {
      "cell_type": "markdown",
      "source": [
        "#References"
      ],
      "metadata": {
        "id": "vSTAqYEVPCwL"
      }
    },
    {
      "cell_type": "markdown",
      "source": [
        "[1]National Eye Institute, “Diabetic Retinopathy | National Eye Institute,” Nih.gov, 2019. https://www.nei.nih.gov/learn-about-eye-health/eye-conditions-and-diseases/diabetic-retinopathy#:~:text=Diabetic%20retinopathy%20is%20an%20eye\n",
        "‌\n",
        "\n",
        "[2]PJOteam, “Prevalence of diabetic retinopathy among diabetic patients in a tertiary hospital,” Philippine Journal Of Ophthalmology, Feb. 07, 2019. https://paojournal.com/article/prevalence-of-diabetic-retinopathy-among-diabetic-patients-in-a-tertiary-hospital/\n",
        "\n",
        "‌\n",
        "[3]“Treatments,” stanfordhealthcare.org. https://stanfordhealthcare.org/medical-conditions/eyes-and-vision/diabetic-retinopathy/treatments.html#:~:text=There%20is%20no%20cure%20for\n",
        "‌\n",
        "\n",
        "[4]K. Boyd, “What Is Diabetic Retinopathy?,” American Academy of Ophthalmology, Oct. 24, 2019. https://www.aao.org/eye-health/diseases/what-is-diabetic-retinopathy\n",
        "‌\n",
        "\n",
        "[5]J. Brownlee, “Crash Course in Convolutional Neural Networks for Machine Learning,” Machine Learning Mastery, Jun. 23, 2016. https://machinelearningmastery.com/crash-course-convolutional-neural-networks/\n",
        "‌"
      ],
      "metadata": {
        "id": "kNyxr8BQQcnz"
      }
    }
  ]
}